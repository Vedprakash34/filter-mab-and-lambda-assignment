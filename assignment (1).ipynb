{
 "cells": [
  {
   "cell_type": "code",
   "execution_count": 50,
   "id": "11f28f21-fdd1-4df9-8aa4-c6eb28771849",
   "metadata": {},
   "outputs": [
    {
     "data": {
      "text/plain": [
       "[('Virat Kohli', 24936),\n",
       " ('Jack Kallis', 25534),\n",
       " ('Ricky Ponting', 27483),\n",
       " ('Sachin Tendulkar', 34357)]"
      ]
     },
     "execution_count": 50,
     "metadata": {},
     "output_type": "execute_result"
    }
   ],
   "source": [
    "#Qn01\n",
    "l=[('Sachin Tendulkar', 34357), ('Ricky Ponting', 27483), ('Jack Kallis', 25534), ('Virat Kohli', 24936)]\n",
    "m=sorted(l,key=lambda x : x[1])\n",
    "list(m)"
   ]
  },
  {
   "cell_type": "code",
   "execution_count": 11,
   "id": "7070ee7b-ef6a-402c-9768-d9257054da37",
   "metadata": {},
   "outputs": [],
   "source": []
  },
  {
   "cell_type": "code",
   "execution_count": null,
   "id": "8dc99664-844b-48eb-8dc1-e5b5050f3a94",
   "metadata": {},
   "outputs": [],
   "source": []
  },
  {
   "cell_type": "code",
   "execution_count": 13,
   "id": "242900e6-071e-4a17-b92a-c40b05d8b06a",
   "metadata": {},
   "outputs": [
    {
     "name": "stdout",
     "output_type": "stream",
     "text": [
      "[1, 4, 9, 16, 25, 36, 49, 64, 81, 100]\n"
     ]
    }
   ],
   "source": [
    "#QNO2l=[1, 2, 3, 4, 5, 6, 7, 8, 9, 10]\n",
    "l1=list(map(lambda x:x**2, l))\n",
    "print(l1)"
   ]
  },
  {
   "cell_type": "code",
   "execution_count": 47,
   "id": "4c6c5557-eca3-4bcd-9d32-0960243da529",
   "metadata": {},
   "outputs": [],
   "source": [
    "#QNO3l=[1, 2, 3, 4, 5, 6, 7, 8, 9, 10]\n",
    "l1=[]\n",
    "def fun(l):\n",
    "    for i in range(0,len(l)):"
   ]
  },
  {
   "cell_type": "code",
   "execution_count": 48,
   "id": "29e4f95a-b5f6-43a0-abc3-93baac2df746",
   "metadata": {},
   "outputs": [
    {
     "data": {
      "text/plain": [
       "[]"
      ]
     },
     "execution_count": 48,
     "metadata": {},
     "output_type": "execute_result"
    }
   ],
   "source": [
    "l1"
   ]
  },
  {
   "cell_type": "code",
   "execution_count": 49,
   "id": "73d78623-98ce-4c83-8705-87988903a62b",
   "metadata": {},
   "outputs": [],
   "source": [
    "#QNO5\n",
    "l=[2, 3, 6, 9, 27, 60, 90, 120, 55, 46]\n",
    "l1=list(filter(lambda x: True if x%2==0 and x%3==0 else False , l))"
   ]
  },
  {
   "cell_type": "code",
   "execution_count": 28,
   "id": "da3bc4aa-2864-4341-ade9-5404186eca84",
   "metadata": {},
   "outputs": [
    {
     "data": {
      "text/plain": [
       "[6, 60, 90, 120]"
      ]
     },
     "execution_count": 28,
     "metadata": {},
     "output_type": "execute_result"
    }
   ],
   "source": [
    "l1"
   ]
  },
  {
   "cell_type": "code",
   "execution_count": 30,
   "id": "1967d2e4-0671-4318-91c8-3786350ff6f6",
   "metadata": {},
   "outputs": [],
   "source": [
    "#QNO6\n",
    "l=['python', 'php', 'aba', 'radar', 'level']\n",
    "l1=list(filter(lambda x: True if x[::-1]==x else False , l))"
   ]
  },
  {
   "cell_type": "code",
   "execution_count": 31,
   "id": "a012686e-de9e-4f6b-a741-c03ad42f0dd6",
   "metadata": {},
   "outputs": [
    {
     "data": {
      "text/plain": [
       "['php', 'aba', 'radar', 'level']"
      ]
     },
     "execution_count": 31,
     "metadata": {},
     "output_type": "execute_result"
    }
   ],
   "source": [
    "l1"
   ]
  },
  {
   "cell_type": "code",
   "execution_count": null,
   "id": "9c92ea01-e115-4fa5-90a6-9b11367a9238",
   "metadata": {},
   "outputs": [],
   "source": []
  }
 ],
 "metadata": {
  "kernelspec": {
   "display_name": "Python 3 (ipykernel)",
   "language": "python",
   "name": "python3"
  },
  "language_info": {
   "codemirror_mode": {
    "name": "ipython",
    "version": 3
   },
   "file_extension": ".py",
   "mimetype": "text/x-python",
   "name": "python",
   "nbconvert_exporter": "python",
   "pygments_lexer": "ipython3",
   "version": "3.10.8"
  }
 },
 "nbformat": 4,
 "nbformat_minor": 5
}
